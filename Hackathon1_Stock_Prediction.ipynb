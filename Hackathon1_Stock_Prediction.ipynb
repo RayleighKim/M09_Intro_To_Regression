{
  "nbformat": 4,
  "nbformat_minor": 0,
  "metadata": {
    "colab": {
      "name": "Hackathon1_Stock_Prediction.ipynb",
      "version": "0.3.2",
      "provenance": [],
      "collapsed_sections": [
        "3cKmWSTZ8uwC",
        "RoE7VUBjaw-R",
        "xN4Pa1qp8uwm",
        "bFdWsejU8uwp",
        "--UmoqGaCcPz"
      ],
      "include_colab_link": true
    },
    "kernelspec": {
      "name": "python3",
      "display_name": "Python 3"
    },
    "accelerator": "GPU"
  },
  "cells": [
    {
      "cell_type": "markdown",
      "metadata": {
        "id": "view-in-github",
        "colab_type": "text"
      },
      "source": [
        "[View in Colaboratory](https://colab.research.google.com/github/RayleighKim/M09_Intro_To_Regression/blob/master/Hackathon1_Stock_Prediction.ipynb)"
      ]
    },
    {
      "metadata": {
        "id": "cVB9pY-v8uv5",
        "colab_type": "text"
      },
      "cell_type": "markdown",
      "source": [
        "# Hackathon 1\n",
        "\n",
        "## Stock Prediction\n",
        "\n",
        "### Your name :     \n",
        "\n",
        "### Kaggle Link for exercise :\n",
        "* [Stock Price trend Prediction dataset](https://www.kaggle.com/aumashe/stock-ew/home) : Historical stock prices of Edwards Lifesciences Corporation (EW) 2000-03-26 ~ 2017-09-09\n",
        "\n",
        "### Real Data for exercise :\n",
        "* [내가 원하는 회사 데이터 다운 받을 곳!](https://finance.yahoo.com/quote/005930.KS/history?p=005930.KS&.tsrc=fin-srch-v1)\n",
        "![how-to](https://github.com/RayleighKim/Example_datasets/blob/master/yahoo_finance.PNG?raw=true)\n",
        "\n",
        "#### 문제를 정의할 것\n",
        "* 무엇을 할지\n",
        "* 왜 하는 것인지\n",
        "* 어떻게 활용할 것인지\n",
        "\n",
        "#### 목표\n",
        "* 성능! 성능! 성능!\n",
        "* (Optional I) 그냥 투자 했다면 얼마를 벌었을까\n",
        "* (Optional II) 내 모델을 이용해 투자를 했다면 얼마를 벌었을까\n",
        "\n",
        "#### 조건\n",
        "* (권장, not필수) 실습시간에 사용한 데이터 말고 다른 회사 데이터 사용할 것\n",
        "* Feature Engineering을 통해 여러 변수들을 만들어 사용할 것 : Pandas의 Rolling 기능 적극 활용\n",
        "* 어떤 모델을 가져다가 써도 좋다. Scikit Learn을 사용하기를 권장함.\n",
        "* (Optional) Keras를 이용해 시계열 모델링에 도전해봐도 좋다. **GPU를 사용하자**\n",
        "\n",
        "---------------\n",
        "Rayleigh Kim @ D:plus\n"
      ]
    },
    {
      "metadata": {
        "id": "GVvCef6A8uv6",
        "colab_type": "code",
        "colab": {}
      },
      "cell_type": "code",
      "source": [
        "'''\n",
        "matplolib inline 명령어를 통해서\n",
        "matplot으로 그리는 플롯들을 주피터 노트북 내에서 볼 수 있게 해준다.\n",
        "포맷을 retina로 바꾸면 그래프의 화질이 훨씬 좋아진다.\n",
        "'''\n",
        "%matplotlib inline\n",
        "%config InlineBackend.figure_format = 'retina'\n",
        "\n",
        "'''\n",
        "라이브러리들을 불러오자.\n",
        "'''\n",
        "import numpy as np\n",
        "import pandas as pd\n",
        "import matplotlib.pyplot as plt\n",
        "import tensorflow as tf\n",
        "import keras\n",
        "\n",
        "from keras.models import Sequential\n",
        "from keras.layers import Dense\n",
        "from keras.callbacks import EarlyStopping\n",
        "from keras import backend as k\n",
        "\n",
        "from sklearn.metrics import mean_squared_error, r2_score\n"
      ],
      "execution_count": 0,
      "outputs": []
    },
    {
      "metadata": {
        "id": "3cKmWSTZ8uwC",
        "colab_type": "text"
      },
      "cell_type": "markdown",
      "source": [
        "## Load and Prepare the data"
      ]
    },
    {
      "metadata": {
        "id": "Vqr7zY5r8uwC",
        "colab_type": "code",
        "colab": {}
      },
      "cell_type": "code",
      "source": [
        "### 여러분의 데이터를 구해서 사용하기를 권장합니다.\n",
        "### 여러분의 데이터를 업로드 / 구글드라이브 마운트하여 사용하세요.\n",
        "\n",
        "data_path = 'https://raw.githubusercontent.com/RayleighKim/Example_datasets/master/Stock_Edwards_Lifesciences_corporation.csv'\n",
        "stock = pd.read_csv(data_path)"
      ],
      "execution_count": 0,
      "outputs": []
    },
    {
      "metadata": {
        "id": "HO_XbJ-yVANm",
        "colab_type": "code",
        "colab": {}
      },
      "cell_type": "code",
      "source": [
        "# '''\n",
        "# Stock_Edwards_Lifesciences_corportation.csv 를 업로드 하자.\n",
        "# '''\n",
        "# from google.colab import files\n",
        "# files.upload"
      ],
      "execution_count": 0,
      "outputs": []
    },
    {
      "metadata": {
        "id": "Kkf5PfKbVQhM",
        "colab_type": "code",
        "colab": {}
      },
      "cell_type": "code",
      "source": [
        "# stock = pd.read_csv('Stock_Edwards_Lifesciences_corporation.csv')"
      ],
      "execution_count": 0,
      "outputs": []
    },
    {
      "metadata": {
        "id": "Wzs1nS348uwE",
        "colab_type": "code",
        "colab": {}
      },
      "cell_type": "code",
      "source": [
        "print(stock.shape)\n",
        "stock.head()"
      ],
      "execution_count": 0,
      "outputs": []
    },
    {
      "metadata": {
        "id": "_lQDBhv-8uwj",
        "colab_type": "code",
        "colab": {}
      },
      "cell_type": "code",
      "source": [
        "stock[:240].plot(x='Date', y='Close')"
      ],
      "execution_count": 0,
      "outputs": []
    },
    {
      "metadata": {
        "id": "RoE7VUBjaw-R",
        "colab_type": "text"
      },
      "cell_type": "markdown",
      "source": [
        "## Your Feature Engineering!\n",
        "\n",
        "Feature Engineering은 위대하다. 시계열 모델링 방법을 잘 몰라도, 데이터에 반영해낼 수 있다!\n",
        "\n",
        "이곳에 Feature Engineering 계획을 세울 것\n",
        "* ex> 하루 전의 종가를 가져와 사용할 것이다.\n",
        "* ex> 삼일 전의 시가를 가져와 사용할 것이다.\n",
        "* ex> 10일 전의 최고가를 가져와 사용할 것이다.\n",
        "* ex> 과거 20일의 이동평균을 가져와 사용할 것이다.\n",
        "\n",
        "**Pandas Rolling 기능 사용시 주의**\n",
        "\n",
        "* min_periods 적절히 활용할 것\n",
        "* shift를 적절히 활용할 것.\n",
        "* NA, NaN 등이 처음 row들에 등장할 수 있다.\n",
        "    * df.fillna() 를 활용하거나\n",
        "    * 아예 처음 row들을 버려버릴 수 있음."
      ]
    },
    {
      "metadata": {
        "id": "CZPz7rx-eO85",
        "colab_type": "code",
        "colab": {}
      },
      "cell_type": "code",
      "source": [
        ""
      ],
      "execution_count": 0,
      "outputs": []
    },
    {
      "metadata": {
        "id": "sOIRPnJeeO_P",
        "colab_type": "code",
        "colab": {}
      },
      "cell_type": "code",
      "source": [
        ""
      ],
      "execution_count": 0,
      "outputs": []
    },
    {
      "metadata": {
        "id": "QqQH40cRePAp",
        "colab_type": "code",
        "colab": {}
      },
      "cell_type": "code",
      "source": [
        ""
      ],
      "execution_count": 0,
      "outputs": []
    },
    {
      "metadata": {
        "id": "gWQgFRJtePCi",
        "colab_type": "code",
        "colab": {}
      },
      "cell_type": "code",
      "source": [
        ""
      ],
      "execution_count": 0,
      "outputs": []
    },
    {
      "metadata": {
        "id": "B9x37vbeePD5",
        "colab_type": "code",
        "colab": {}
      },
      "cell_type": "code",
      "source": [
        ""
      ],
      "execution_count": 0,
      "outputs": []
    },
    {
      "metadata": {
        "id": "YHRH1SLOePGL",
        "colab_type": "code",
        "colab": {}
      },
      "cell_type": "code",
      "source": [
        ""
      ],
      "execution_count": 0,
      "outputs": []
    },
    {
      "metadata": {
        "id": "K5ySrpPfePHZ",
        "colab_type": "code",
        "colab": {}
      },
      "cell_type": "code",
      "source": [
        "## Your final Data\n",
        "\n",
        "print(stock.columns)\n",
        "stock.dtypes"
      ],
      "execution_count": 0,
      "outputs": []
    },
    {
      "metadata": {
        "id": "xN4Pa1qp8uwm",
        "colab_type": "text"
      },
      "cell_type": "markdown",
      "source": [
        "## Drop columns\n",
        "\n",
        "* (필수)사용하지 않을 변수들은 제거하자.\n",
        "* (권장)컬럼을 사용하기 좋은 순서대로 바꾸자.\n",
        "* (필수) 우리는 Close를 예측할 것이므로 가능하면 close 컬럼을 맨 뒤로 미루자.\n",
        "\n",
        "다음의 코드를 이용하면 타이핑의 수고를 줄일 수 있다.\n",
        "\n",
        "```\n",
        "stock.columns\n",
        "```\n",
        "\n"
      ]
    },
    {
      "metadata": {
        "id": "IxGn4GH6cIcp",
        "colab_type": "code",
        "colab": {}
      },
      "cell_type": "code",
      "source": [
        ""
      ],
      "execution_count": 0,
      "outputs": []
    },
    {
      "metadata": {
        "id": "8lDydft58uwn",
        "colab_type": "code",
        "colab": {}
      },
      "cell_type": "code",
      "source": [
        "### 코드를 수정하여 사용할 것.\n",
        "\n",
        "fields_to_drop = ['Date', 'Adj_Close']\n",
        "data = stock.drop(fields_to_drop, axis=1)\n",
        "data = data[['Open', 'High', 'Low', 'Volume','Close']]\n",
        "\n",
        "data.head()"
      ],
      "execution_count": 0,
      "outputs": []
    },
    {
      "metadata": {
        "id": "bFdWsejU8uwp",
        "colab_type": "text"
      },
      "cell_type": "markdown",
      "source": [
        "## Scaling Variables\n",
        "\n",
        "반드시 하기를 권장\n",
        "\n",
        "사실, 날짜 빼고는 다 해야 함\n"
      ]
    },
    {
      "metadata": {
        "id": "9npdTrWj8uwr",
        "colab_type": "code",
        "colab": {}
      },
      "cell_type": "code",
      "source": [
        "quant_features = list(data)\n",
        "# Store scalings in a dictionary so we can convert back later\n",
        "scaled_features = {}\n",
        "for each in quant_features:\n",
        "    mean, std = data[each].mean(), data[each].std()\n",
        "    scaled_features[each] = [mean, std]\n",
        "    data.loc[:, each] = (data[each] - mean)/std"
      ],
      "execution_count": 0,
      "outputs": []
    },
    {
      "metadata": {
        "id": "NYgbzL8F8uwt",
        "colab_type": "code",
        "colab": {}
      },
      "cell_type": "code",
      "source": [
        "'''\n",
        "위에서 쓰인 Dictionary 잠깐 짚어보기.\n",
        "Dictionary의 각각의 원소는 key : value 쌍으로 되어 있다.\n",
        "'''\n",
        "\n",
        "scaled_features"
      ],
      "execution_count": 0,
      "outputs": []
    },
    {
      "metadata": {
        "id": "zbwpz0ek8uw2",
        "colab_type": "text"
      },
      "cell_type": "markdown",
      "source": [
        "### Pandas Dataframe to Numpy array\n",
        "\n"
      ]
    },
    {
      "metadata": {
        "id": "CurBFRz88uw2",
        "colab_type": "code",
        "colab": {}
      },
      "cell_type": "code",
      "source": [
        "xy = data.values\n",
        "print(xy[:5])"
      ],
      "execution_count": 0,
      "outputs": []
    },
    {
      "metadata": {
        "id": "--UmoqGaCcPz",
        "colab_type": "text"
      },
      "cell_type": "markdown",
      "source": [
        "## Modeling!\n",
        "\n",
        "특별한 문제가 없다면 다음의 셀은 자동으로 실행이 되어야 한다.\n",
        "\n",
        "* 선택지1(권장) : Feature Engineering만으로 승부를 본다. 위에서 Feature Engineering 해가며 아래 셀을 실행하여 성능을 관찰한다.\n",
        "* 선택지2 : 실습파일을 참고하여 LSTM 모델링까지 해본다.\n",
        "* 선택지3(권장) : Scikit-Learn을 이용하여 여러 모델들을 사용해본다. "
      ]
    },
    {
      "metadata": {
        "id": "a8WejthzCiyK",
        "colab_type": "code",
        "colab": {}
      },
      "cell_type": "code",
      "source": [
        "k.clear_session()\n",
        "\n",
        "\n",
        "x_data = xy[:-1]\n",
        "y_data = xy[1:, [-1]]\n",
        "\n",
        "x_train, x_valid, x_test = x_data[:-30], x_data[-30:-10], x_data[-10:]\n",
        "y_train, y_valid, y_test = y_data[:-30], y_data[-30:-10], y_data[-10:]\n",
        "\n",
        "### modeling\n",
        "model = Sequential()\n",
        "model.add(Dense(units =   1, input_dim=x_data.shape[1]))\n",
        "model.compile(loss='mse', optimizer = 'adam', metrics = ['mse'] )\n",
        "\n",
        "### Training\n",
        "\n",
        "\n",
        "model.fit(x_train, y_train, batch_size = 512,\n",
        "         epochs = 1000, validation_data=(x_valid, y_valid),\n",
        "          callbacks=[EarlyStopping(monitor='val_loss', patience=15)]\n",
        "         )\n",
        "\n",
        "### evaluate\n",
        "\n",
        "pred_train = model.predict(x_train)\n",
        "pred_valid = model.predict(x_valid)\n",
        "pred_test = model.predict(x_test)\n",
        "\n",
        "print(\"Mean Squared Error on Training set : {0:.5f}\".format(mean_squared_error(y_train, pred_train)  ))\n",
        "print(\"Mean Squared Error on Validation set : {0:.5f}\".format(mean_squared_error(y_valid, pred_valid)  ))\n",
        "print(\"Mean Squared Error on Test set : {0:.5f}\".format(mean_squared_error(y_test, pred_test)  ))\n",
        "\n",
        "print(\"R-squared Score on Training set : {0:.5f}\".format(r2_score(y_train, pred_train)))\n",
        "print(\"R-squared Score on Validation set : {0:.5f}\".format(r2_score(y_valid, pred_valid)))\n",
        "print(\"R-squared Score on Test set : {0:.5f}\".format(r2_score(y_test, pred_test)))\n",
        "\n",
        "fig, ax = plt.subplots(figsize=(10,5))\n",
        "\n",
        "# 예측값도 Scaling 되어 있으므로 그것을 원래대로 되돌려주는 과정\n",
        "mean, std = scaled_features['Close']\n",
        "\n",
        "ax.plot((pred_test)*std+mean, label = 'Prediction')\n",
        "ax.plot((y_test)*std+mean, label = 'Real')\n",
        "ax.set_xlim(right = len(y_test))\n",
        "ax.legend()\n"
      ],
      "execution_count": 0,
      "outputs": []
    },
    {
      "metadata": {
        "id": "sCwXpZt8GRt7",
        "colab_type": "code",
        "colab": {}
      },
      "cell_type": "code",
      "source": [
        ""
      ],
      "execution_count": 0,
      "outputs": []
    }
  ]
}