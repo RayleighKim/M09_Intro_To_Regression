{
  "nbformat": 4,
  "nbformat_minor": 0,
  "metadata": {
    "colab": {
      "name": "Hackathon0_Bike_Sharing.ipynb",
      "version": "0.3.2",
      "provenance": [],
      "collapsed_sections": [
        "ryA0ffqNS44P",
        "FTCBUO6iQlC5",
        "xN4Pa1qp8uwm",
        "bFdWsejU8uwp",
        "RSOF5WWn8uwy",
        "BYr1vtpd8uw4"
      ],
      "include_colab_link": true
    },
    "kernelspec": {
      "name": "python3",
      "display_name": "Python 3"
    }
  },
  "cells": [
    {
      "cell_type": "markdown",
      "metadata": {
        "id": "view-in-github",
        "colab_type": "text"
      },
      "source": [
        "[View in Colaboratory](https://colab.research.google.com/github/RayleighKim/M09_Intro_To_Regression/blob/master/Hackathon0_Bike_Sharing.ipynb)"
      ]
    },
    {
      "metadata": {
        "id": "cVB9pY-v8uv5",
        "colab_type": "text"
      },
      "cell_type": "markdown",
      "source": [
        "# Hackathon 0\n",
        "\n",
        "## Regression Problem\n",
        "\n",
        "### Your name :     \n",
        "\n",
        "### Kaggle Link :\n",
        "* [Bike-sharing Demand](https://www.kaggle.com/c/bike-sharing-demand)\n",
        "\n",
        "\n",
        "#### 문제를 정의할 것\n",
        "* 무엇을 할지\n",
        "* 왜 하는 것인지\n",
        "\n",
        "#### 목표 ( 최소한 둘 중 하나를 만족할 것 )\n",
        "* 예측 성능이 좋을 것\n",
        "* 설명이 용이할 것\n",
        "\n",
        "#### 조건\n",
        "* Feature Engineering을 통해 여러 변수들을 만들 것 : Pandas의 Rolling 기능을 적극 활용하라.\n",
        "* 어떤 모델을 가져다가 써도 좋다. 우리가 배운 것들은 다음과 같다.\n",
        "    * Linear Regression\n",
        "    * ANN (권장)\n",
        "    * Random Forest\n",
        "    * KNN\n",
        "* 모델 사용 법들은 실습 파일들을 적극적으로 참고할 것!\n",
        "\n",
        "\n",
        "---------------\n",
        "Rayleigh Kim @ D:plus\n"
      ]
    },
    {
      "metadata": {
        "id": "GVvCef6A8uv6",
        "colab_type": "code",
        "colab": {}
      },
      "cell_type": "code",
      "source": [
        "'''\n",
        "matplolib inline 명령어를 통해서\n",
        "matplot으로 그리는 플롯들을 주피터 노트북 내에서 볼 수 있게 해준다.\n",
        "포맷을 retina로 바꾸면 그래프의 화질이 훨씬 좋아진다.\n",
        "'''\n",
        "%matplotlib inline\n",
        "%config InlineBackend.figure_format = 'retina'\n",
        "\n",
        "'''\n",
        "라이브러리들을 불러오자.\n",
        "'''\n",
        "import numpy as np\n",
        "import pandas as pd\n",
        "import matplotlib.pyplot as plt\n",
        "\n",
        "'''\n",
        "사이킷런의 라이브러리들을 미리 불러두는 것도 좋지만,\n",
        "세부적인 메쏘드가 너무 많아서 필요한것만 불러오도록 할 것이다.\n",
        "'''\n"
      ],
      "execution_count": 0,
      "outputs": []
    },
    {
      "metadata": {
        "id": "ryA0ffqNS44P",
        "colab_type": "text"
      },
      "cell_type": "markdown",
      "source": [
        "## Data Loading"
      ]
    },
    {
      "metadata": {
        "id": "Vqr7zY5r8uwC",
        "colab_type": "code",
        "colab": {}
      },
      "cell_type": "code",
      "source": [
        "data_path = 'https://raw.githubusercontent.com/RayleighKim/Example_datasets/master/Bike-Sharing-Dataset/hour.csv'\n",
        "rides = pd.read_csv(data_path)"
      ],
      "execution_count": 0,
      "outputs": []
    },
    {
      "metadata": {
        "id": "4u5C5Yn_Qm-U",
        "colab_type": "code",
        "colab": {}
      },
      "cell_type": "code",
      "source": [
        "# # hour.csv 파일을 불러오자\n",
        "# from google.colab import files\n",
        "# files.upload()"
      ],
      "execution_count": 0,
      "outputs": []
    },
    {
      "metadata": {
        "id": "o_YvbauWQv2m",
        "colab_type": "code",
        "colab": {}
      },
      "cell_type": "code",
      "source": [
        "# rides = pd.read_csv('hour.csv')"
      ],
      "execution_count": 0,
      "outputs": []
    },
    {
      "metadata": {
        "id": "Wzs1nS348uwE",
        "colab_type": "code",
        "colab": {}
      },
      "cell_type": "code",
      "source": [
        "rides.head()"
      ],
      "execution_count": 0,
      "outputs": []
    },
    {
      "metadata": {
        "id": "1ZsXdcfp8uwI",
        "colab_type": "code",
        "colab": {}
      },
      "cell_type": "code",
      "source": [
        "rides.dtypes"
      ],
      "execution_count": 0,
      "outputs": []
    },
    {
      "metadata": {
        "id": "okEyRbFKRqPR",
        "colab_type": "code",
        "colab": {}
      },
      "cell_type": "code",
      "source": [
        "rides[:24*10].plot(x='dteday', y='cnt')"
      ],
      "execution_count": 0,
      "outputs": []
    },
    {
      "metadata": {
        "id": "FTCBUO6iQlC5",
        "colab_type": "text"
      },
      "cell_type": "markdown",
      "source": [
        "## Your Feature Engineering!\n",
        "\n",
        "상상하라! 어려운 HyperParameter tuning보다도 중요한 부분이다!\n",
        "\n",
        "이곳에 Feature Engineering 할 것을 계획할 것.\n",
        "* ex> 과거 4일간의 cnt 평균을 사용할 것이다.\n",
        "* ex> 과거 10일간의 max값을 활용할 것이다.\n",
        "\n",
        "\n",
        "**Pandas Rolling 기능 사용시 주의**\n",
        "* min_periods 를 적절히 활용할 것\n",
        "* shift를 적절히 활용할 것. : **사용하지 않으면 정답으로 정답을 예측하는 사태가 벌어질 수 있다.**"
      ]
    },
    {
      "metadata": {
        "id": "1VeBCBCrSh5g",
        "colab_type": "code",
        "colab": {}
      },
      "cell_type": "code",
      "source": [
        ""
      ],
      "execution_count": 0,
      "outputs": []
    },
    {
      "metadata": {
        "id": "ULovgo_eSh_1",
        "colab_type": "code",
        "colab": {}
      },
      "cell_type": "code",
      "source": [
        ""
      ],
      "execution_count": 0,
      "outputs": []
    },
    {
      "metadata": {
        "id": "9SMOzucbSiD7",
        "colab_type": "code",
        "colab": {}
      },
      "cell_type": "code",
      "source": [
        ""
      ],
      "execution_count": 0,
      "outputs": []
    },
    {
      "metadata": {
        "id": "E7ovbhd4SpNy",
        "colab_type": "code",
        "colab": {}
      },
      "cell_type": "code",
      "source": [
        ""
      ],
      "execution_count": 0,
      "outputs": []
    },
    {
      "metadata": {
        "id": "QAtdEwhNSiKi",
        "colab_type": "code",
        "colab": {}
      },
      "cell_type": "code",
      "source": [
        ""
      ],
      "execution_count": 0,
      "outputs": []
    },
    {
      "metadata": {
        "id": "Pjf40l5cSlxm",
        "colab_type": "code",
        "colab": {}
      },
      "cell_type": "code",
      "source": [
        "# Your Final Features\n",
        "\n",
        "print(rides.columns)\n",
        "rides.dtypes"
      ],
      "execution_count": 0,
      "outputs": []
    },
    {
      "metadata": {
        "id": "xN4Pa1qp8uwm",
        "colab_type": "text"
      },
      "cell_type": "markdown",
      "source": [
        "## Dummy Variable and Drop\n",
        "\n",
        "더미로 만들 것들은 더미로 만들어두자\n",
        "\n",
        "그리고, 버릴 것을 버리자!\n",
        "\n",
        "**주의**\n",
        "\n",
        "자전거 대여량은 \n",
        "\n",
        "cnt = casual + registered 로 이루어져 있다.\n",
        "\n",
        "Target으로 셋 중 하나를 선택하고 나머지는 버릴 것!"
      ]
    },
    {
      "metadata": {
        "id": "8lDydft58uwn",
        "colab_type": "code",
        "colab": {}
      },
      "cell_type": "code",
      "source": [
        "### Your code\n",
        "### Example : dummy_fields = ['season', 'mnth']\n",
        "# dummy_fields = ## Your Code\n",
        "\n",
        "for each in dummy_fields:\n",
        "    dummies = pd.get_dummies(rides[each], prefix=each, drop_first=False)\n",
        "    rides = pd.concat([rides, dummies], axis=1)\n",
        "\n",
        "fields_to_drop = ## Your Code\n",
        "data = rides.drop(fields_to_drop, axis=1)\n",
        "data.head()"
      ],
      "execution_count": 0,
      "outputs": []
    },
    {
      "metadata": {
        "id": "bFdWsejU8uwp",
        "colab_type": "text"
      },
      "cell_type": "markdown",
      "source": [
        "## Scaling Variables"
      ]
    },
    {
      "metadata": {
        "id": "LWS4k7uCT5UZ",
        "colab_type": "code",
        "colab": {}
      },
      "cell_type": "code",
      "source": [
        "data.dtypes"
      ],
      "execution_count": 0,
      "outputs": []
    },
    {
      "metadata": {
        "id": "9npdTrWj8uwr",
        "colab_type": "code",
        "colab": {}
      },
      "cell_type": "code",
      "source": [
        "### Your Code\n",
        "### Example : quant_features = ['cnt', 'temp' ]\n",
        "quant_features = ### Your Code\n",
        "\n",
        "# Store scalings in a dictionary so we can convert back later\n",
        "scaled_features = {}\n",
        "for each in quant_features:\n",
        "    mean, std = data[each].mean(), data[each].std()\n",
        "    scaled_features[each] = [mean, std]\n",
        "    data.loc[:, each] = (data[each] - mean)/std"
      ],
      "execution_count": 0,
      "outputs": []
    },
    {
      "metadata": {
        "id": "NYgbzL8F8uwt",
        "colab_type": "code",
        "colab": {}
      },
      "cell_type": "code",
      "source": [
        "'''\n",
        "위에서 쓰인 Dictionary 잠깐 짚어보기.\n",
        "Dictionary의 각각의 원소는 key : value 쌍으로 되어 있다.\n",
        "'''\n",
        "\n",
        "scaled_features"
      ],
      "execution_count": 0,
      "outputs": []
    },
    {
      "metadata": {
        "id": "RSOF5WWn8uwy",
        "colab_type": "text"
      },
      "cell_type": "markdown",
      "source": [
        "## Splitting the data into training, testing, and validation sets"
      ]
    },
    {
      "metadata": {
        "id": "uHnuBUJu8uwz",
        "colab_type": "code",
        "colab": {}
      },
      "cell_type": "code",
      "source": [
        "test_data = data[-21*24:]\n",
        "val_data = data[-81*24:-21*24]\n",
        "train_data = data[:-81*24]\n",
        "\n",
        "### Your Code\n",
        "### Example > target_fields = ['cnt']\n",
        "\n",
        "target_fields =  ## Your Code\n",
        "\n",
        "\n",
        "test_features, test_targets = test_data.drop(target_fields, axis=1), test_data[target_fields]\n",
        "val_features, val_targets = val_data.drop(target_fields, axis=1), val_data[target_fields]\n",
        "train_features, train_targets = train_data.drop(target_fields, axis=1), train_data[target_fields]\n",
        "\n",
        "train_targets.head()"
      ],
      "execution_count": 0,
      "outputs": []
    },
    {
      "metadata": {
        "id": "zbwpz0ek8uw2",
        "colab_type": "text"
      },
      "cell_type": "markdown",
      "source": [
        "### Pandas Dataframe to Numpy array\n",
        "\n",
        "생략. 싸이킷런만 활용할 것.\n",
        "\n",
        "```\n",
        "if 나는 이미 Tensorflow를 사용할 줄 알아! :\n",
        "    아래의 셀을 수정하여 사용\n",
        "```"
      ]
    },
    {
      "metadata": {
        "id": "CurBFRz88uw2",
        "colab_type": "code",
        "colab": {}
      },
      "cell_type": "code",
      "source": [
        "# test_features, test_targets = test_features.values, test_targets.values\n",
        "# val_features, val_targets = val_features.values, val_targets.values\n",
        "# train_features, train_targets = train_features.values, train_targets.values\n",
        "\n",
        "# # 우리는 타겟 중 첫번째 컬럼(cnt)만 사용할 것이다.\n",
        "# test_cnt = test_targets[:,0]\n",
        "# val_cnt = val_targets[:,0]\n",
        "# train_cnt = train_targets[:,0]\n",
        "\n",
        "\n",
        "# print(train_targets, train_cnt)"
      ],
      "execution_count": 0,
      "outputs": []
    },
    {
      "metadata": {
        "id": "BYr1vtpd8uw4",
        "colab_type": "text"
      },
      "cell_type": "markdown",
      "source": [
        "## Modeling!\n",
        "\n",
        "아래의 셀들을 적극 수정하며 사용할 것.\n",
        "\n",
        "여러 모델들을 만들어 동시에 비교해보아도 좋다.\n",
        "\n",
        "**모델 선택을 할 때 test set을 이용하지 말 것**"
      ]
    },
    {
      "metadata": {
        "id": "oRB84_HE8uw5",
        "colab_type": "code",
        "colab": {}
      },
      "cell_type": "code",
      "source": [
        "import time # 학습시간 측정용\n",
        "\n",
        "# Your Code\n",
        "# 사용할 모델들을 불러와서 사용할 것!\n",
        "\n",
        "from sklearn.metrics import mean_squared_error, r2_score"
      ],
      "execution_count": 0,
      "outputs": []
    },
    {
      "metadata": {
        "id": "UCEKvUAu8uw7",
        "colab_type": "code",
        "colab": {}
      },
      "cell_type": "code",
      "source": [
        "# 모델 준비\n",
        "reg_model = ## Your Code Here\n",
        "\n",
        "\n",
        "# 모델 training\n",
        "# Test셋의 첫번째 컬럼(cnt)만 사용할 것이다. \n",
        "start_time = time.clock()\n",
        "reg_model.fit(train_features, train_targets)\n",
        "end_time = time.clock()\n",
        "\n",
        "print('----  {0:.5f}sec, training complete  ----'.format(end_time-start_time))\n",
        "\n",
        "# Training & Validation set에서의 예측값 준비\n",
        "train_pred, val_pred = reg_model.predict(train_features), reg_model.predict(val_features)"
      ],
      "execution_count": 0,
      "outputs": []
    },
    {
      "metadata": {
        "id": "0ZRwQJXY8uw9",
        "colab_type": "code",
        "colab": {}
      },
      "cell_type": "code",
      "source": [
        "# Training & Validation set에서의 성능 확인\n",
        "\n",
        "print(\"Mean Squared Error on Training set : {0:.5f}\".format(mean_squared_error(train_targets, train_pred)  ))\n",
        "print(\"Mean Squared Error on Validation set : {0:.5f}\".format(mean_squared_error(val_targets, val_pred)  ))\n",
        "\n",
        "print(\"R-squared Score on Training set : {0:.5f}\".format(r2_score(train_targets, train_pred)))\n",
        "print(\"R-squared Score on Validation set : {0:.5f}\".format(r2_score(val_targets, val_pred)))"
      ],
      "execution_count": 0,
      "outputs": []
    },
    {
      "metadata": {
        "id": "9Psj4F_d8uxA",
        "colab_type": "text"
      },
      "cell_type": "markdown",
      "source": [
        "### Check out on Test set\n",
        "\n",
        "Golden rule : Test set을 모델 학습에 사용하지 말지어다."
      ]
    },
    {
      "metadata": {
        "id": "52ZSdvS08uxC",
        "colab_type": "code",
        "colab": {}
      },
      "cell_type": "code",
      "source": [
        "simple_predictions = reg_model.predict(test_features)\n",
        "\n",
        "fig, ax = plt.subplots(figsize=(10,5))\n",
        "\n",
        "# 예측값도 Scaling 되어 있으므로 그것을 원래대로 되돌려주는 과정\n",
        "# ex> scaled_features['cnt']\n",
        "mean, std = scaled_features[### Your Code Here]\n",
        "\n",
        "ax.plot((simple_predictions)*std+mean, label = 'Simple_Prediction')\n",
        "ax.plot((test_targets)*std+mean, label = 'Real')\n",
        "ax.set_xlim(right = len(simple_predictions))\n",
        "ax.legend()\n",
        "\n",
        "dates = pd.to_datetime(rides.iloc[test_data.index]['dteday'])\n",
        "dates = dates.apply(lambda d: d.strftime('%b %d'))\n",
        "ax.set_xticks(np.arange(len(dates))[12::24])\n",
        "_ = ax.set_xticklabels(dates[12::24], rotation=45)\n",
        "\n",
        "print(\"Mean Squared Error on Test set : {0:.5f}\".format(mean_squared_error(test_targets, simple_predictions)  ))\n",
        "print(\"R-squared Score on Test set : {0:.5f}\".format(r2_score(test_targets, simple_predictions)))"
      ],
      "execution_count": 0,
      "outputs": []
    }
  ]
}