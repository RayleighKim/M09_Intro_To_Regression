{
  "nbformat": 4,
  "nbformat_minor": 0,
  "metadata": {
    "colab": {
      "name": "91_Intro_to_Regression_Bike&boston.ipynb",
      "version": "0.3.2",
      "provenance": [],
      "collapsed_sections": [
        "ryA0ffqNS44P",
        "axzIVFKR8uwL",
        "xN4Pa1qp8uwm",
        "bFdWsejU8uwp",
        "RSOF5WWn8uwy",
        "zbwpz0ek8uw2",
        "BYr1vtpd8uw4",
        "9Psj4F_d8uxA",
        "UdTSTPwJC--o",
        "JV3NOBIp8uxE",
        "Dzk5EZ2H8uxZ"
      ],
      "include_colab_link": true
    },
    "kernelspec": {
      "name": "python3",
      "display_name": "Python 3"
    }
  },
  "cells": [
    {
      "cell_type": "markdown",
      "metadata": {
        "id": "view-in-github",
        "colab_type": "text"
      },
      "source": [
        "[View in Colaboratory](https://colab.research.google.com/github/RayleighKim/M09_Intro_To_Regression/blob/master/91_Intro_to_Regression_Bike&boston.ipynb)"
      ]
    },
    {
      "metadata": {
        "id": "cVB9pY-v8uv5",
        "colab_type": "text"
      },
      "cell_type": "markdown",
      "source": [
        "# Intro to Regression 01\n",
        "\n",
        "## Regression Problem\n",
        "\n",
        "### Your name :     \n",
        "\n",
        "### Kaggle Link :\n",
        "* [Bike-sharing Demand](https://www.kaggle.com/c/bike-sharing-demand)\n",
        "* [boston-housing](https://www.kaggle.com/c/boston-housing)\n",
        "\n",
        "#### 실습목표 I<br>\n",
        "1. Linear Regression 을 이해하고 사용해본다.\n",
        "2. KNN Regression 을 이해하고 사용해본다.\n",
        "3. Artificial Neural Network Regression을 이해하고 사용해본다.\n",
        "\n",
        "#### 실습목표 II<br>\n",
        "1. Pandas 라이브러리로 csv 파일을 불러오고, 전처리할 수 있다.\n",
        "2. Pandas로 전처리한 파일을 Numpy array로 바꿀 수 있다.\n",
        "3. Scikit-learn을 통해 간단히 머신러닝을 사용해볼 수 있다.\n",
        "\n",
        "---------------\n",
        "Rayleigh Kim @ D:plus\n"
      ]
    },
    {
      "metadata": {
        "id": "GVvCef6A8uv6",
        "colab_type": "code",
        "colab": {}
      },
      "cell_type": "code",
      "source": [
        "'''\n",
        "matplolib inline 명령어를 통해서\n",
        "matplot으로 그리는 플롯들을 주피터 노트북 내에서 볼 수 있게 해준다.\n",
        "포맷을 retina로 바꾸면 그래프의 화질이 훨씬 좋아진다.\n",
        "'''\n",
        "%matplotlib inline\n",
        "%config InlineBackend.figure_format = 'retina'\n",
        "\n",
        "'''\n",
        "라이브러리들을 불러오자.\n",
        "'''\n",
        "import numpy as np\n",
        "import pandas as pd\n",
        "import matplotlib.pyplot as plt\n",
        "\n",
        "'''\n",
        "사이킷런의 라이브러리들을 미리 불러두는 것도 좋지만,\n",
        "세부적인 메쏘드가 너무 많아서 필요한것만 불러오도록 할 것이다.\n",
        "'''\n"
      ],
      "execution_count": 0,
      "outputs": []
    },
    {
      "metadata": {
        "id": "3cKmWSTZ8uwC",
        "colab_type": "text"
      },
      "cell_type": "markdown",
      "source": [
        "## 다같이 실습"
      ]
    },
    {
      "metadata": {
        "id": "ryA0ffqNS44P",
        "colab_type": "text"
      },
      "cell_type": "markdown",
      "source": [
        "### Data Loading"
      ]
    },
    {
      "metadata": {
        "id": "Vqr7zY5r8uwC",
        "colab_type": "code",
        "colab": {}
      },
      "cell_type": "code",
      "source": [
        "# data_path = 'https://raw.githubusercontent.com/RayleighKim/Example_datasets/master/Bike-Sharing-Dataset/hour.csv'\n",
        "# rides = pd.read_csv(data_path)"
      ],
      "execution_count": 0,
      "outputs": []
    },
    {
      "metadata": {
        "id": "4u5C5Yn_Qm-U",
        "colab_type": "code",
        "colab": {}
      },
      "cell_type": "code",
      "source": [
        "# hour.csv 파일을 불러오자\n",
        "from google.colab import files\n",
        "files.upload()"
      ],
      "execution_count": 0,
      "outputs": []
    },
    {
      "metadata": {
        "id": "o_YvbauWQv2m",
        "colab_type": "code",
        "colab": {}
      },
      "cell_type": "code",
      "source": [
        "rides = pd.read_csv('hour.csv')"
      ],
      "execution_count": 0,
      "outputs": []
    },
    {
      "metadata": {
        "id": "Wzs1nS348uwE",
        "colab_type": "code",
        "colab": {}
      },
      "cell_type": "code",
      "source": [
        "rides.head()"
      ],
      "execution_count": 0,
      "outputs": []
    },
    {
      "metadata": {
        "id": "1ZsXdcfp8uwI",
        "colab_type": "code",
        "colab": {}
      },
      "cell_type": "code",
      "source": [
        "type(rides)"
      ],
      "execution_count": 0,
      "outputs": []
    },
    {
      "metadata": {
        "id": "okEyRbFKRqPR",
        "colab_type": "code",
        "colab": {}
      },
      "cell_type": "code",
      "source": [
        "rides[:24*10].plot(x='dteday', y='cnt')"
      ],
      "execution_count": 0,
      "outputs": []
    },
    {
      "metadata": {
        "id": "axzIVFKR8uwL",
        "colab_type": "text"
      },
      "cell_type": "markdown",
      "source": [
        "#### 참고\n",
        "\n",
        "시간별로 집계한 자전거 sharing 데이터는 지금, rides라는 변수안에 Pandas Dataframe 형태로 저장되어 있다. 간단하게 Pandas를 사용해보자"
      ]
    },
    {
      "metadata": {
        "id": "JhMSSSsl8uwL",
        "colab_type": "code",
        "colab": {}
      },
      "cell_type": "code",
      "source": [
        "rides['instant']"
      ],
      "execution_count": 0,
      "outputs": []
    },
    {
      "metadata": {
        "id": "DPodsvZ48uwP",
        "colab_type": "code",
        "colab": {}
      },
      "cell_type": "code",
      "source": [
        "rides[['instant', 'dteday']]"
      ],
      "execution_count": 0,
      "outputs": []
    },
    {
      "metadata": {
        "id": "YNBs1w3A8uwV",
        "colab_type": "code",
        "colab": {}
      },
      "cell_type": "code",
      "source": [
        "columns = ['instant', 'dteday']\n",
        "rides[columns]"
      ],
      "execution_count": 0,
      "outputs": []
    },
    {
      "metadata": {
        "id": "QydhurIh8uwZ",
        "colab_type": "code",
        "colab": {}
      },
      "cell_type": "code",
      "source": [
        "rides[:24]"
      ],
      "execution_count": 0,
      "outputs": []
    },
    {
      "metadata": {
        "id": "2F1a8UPM8uwd",
        "colab_type": "code",
        "colab": {}
      },
      "cell_type": "code",
      "source": [
        "rides.ix[0:24, [2,5]]"
      ],
      "execution_count": 0,
      "outputs": []
    },
    {
      "metadata": {
        "id": "xN4Pa1qp8uwm",
        "colab_type": "text"
      },
      "cell_type": "markdown",
      "source": [
        "### Dummy Variable\n",
        "\n",
        "Season, weathersit, mnth, hr, weekday 등의 Categorical Variable들은 모델에 넣기 전에 Binary dummy variable로 만들 필요가 있다.\n",
        "\n",
        "그리고 사용하지 않을 변수들은 제거하자.\n",
        "\n",
        "\n",
        "익혀야 할 방법들\n",
        "pd.get_dummies, pd.concat, (Pandas Dataframe).drop"
      ]
    },
    {
      "metadata": {
        "id": "8lDydft58uwn",
        "colab_type": "code",
        "colab": {}
      },
      "cell_type": "code",
      "source": [
        "dummy_fields = ['season', 'weathersit', 'mnth', 'hr', 'weekday']\n",
        "for each in dummy_fields:\n",
        "    dummies = pd.get_dummies(rides[each], prefix=each, drop_first=False)\n",
        "    rides = pd.concat([rides, dummies], axis=1)\n",
        "\n",
        "fields_to_drop = ['instant', 'dteday', 'season', 'weathersit', \n",
        "                  'weekday', 'atemp', 'mnth', 'workingday', 'hr']\n",
        "data = rides.drop(fields_to_drop, axis=1)\n",
        "data.head()"
      ],
      "execution_count": 0,
      "outputs": []
    },
    {
      "metadata": {
        "id": "bFdWsejU8uwp",
        "colab_type": "text"
      },
      "cell_type": "markdown",
      "source": [
        "### Scaling target variables\n",
        "\n",
        "mean shifting & Scaling : 평균을 0으로, 표준편차를 1로<br>\n",
        "사실 scikit-learn에서 한방에 하는 방법도 있다.<br>\n",
        "[Missing-Value처리](http://scikit-learn.org/stable/modules/generated/sklearn.preprocessing.Imputer.html), [StandardScaling](http://scikit-learn.org/stable/modules/generated/sklearn.preprocessing.StandardScaler.html#sklearn.preprocessing.StandardScaler)<br>\n",
        "연습삼아 직접 해보자!\n",
        "\n"
      ]
    },
    {
      "metadata": {
        "id": "9npdTrWj8uwr",
        "colab_type": "code",
        "colab": {}
      },
      "cell_type": "code",
      "source": [
        "quant_features = ['casual', 'registered', 'cnt', 'temp', 'hum', 'windspeed']\n",
        "# Store scalings in a dictionary so we can convert back later\n",
        "scaled_features = {}\n",
        "for each in quant_features:\n",
        "    mean, std = data[each].mean(), data[each].std()\n",
        "    scaled_features[each] = [mean, std]\n",
        "    data.loc[:, each] = (data[each] - mean)/std"
      ],
      "execution_count": 0,
      "outputs": []
    },
    {
      "metadata": {
        "id": "NYgbzL8F8uwt",
        "colab_type": "code",
        "colab": {}
      },
      "cell_type": "code",
      "source": [
        "'''\n",
        "위에서 쓰인 Dictionary 잠깐 짚어보기.\n",
        "Dictionary의 각각의 원소는 key : value 쌍으로 되어 있다.\n",
        "'''\n",
        "\n",
        "scaled_features"
      ],
      "execution_count": 0,
      "outputs": []
    },
    {
      "metadata": {
        "id": "RSOF5WWn8uwy",
        "colab_type": "text"
      },
      "cell_type": "markdown",
      "source": [
        "### Splitting the data into training, testing, and validation sets\n",
        "\n",
        "맨 마지막의 21일을 test_set으로, 그리고 마지막의 81~22 (60일)을 validation set으로, 나머지를 Training set으로 둔다.<br>\n",
        "물론 이것도 [scikit-learn에서 한방](http://scikit-learn.org/stable/modules/generated/sklearn.model_selection.train_test_split.html)에 할 수 있으나 우리는 직접한다!\n",
        "\n",
        "굳이 Validations set을 왜 사용하는지는, 이론만 달리는 날에 신나고 자세하게 달립시다!"
      ]
    },
    {
      "metadata": {
        "id": "uHnuBUJu8uwz",
        "colab_type": "code",
        "colab": {}
      },
      "cell_type": "code",
      "source": [
        "test_data = data[-21*24:]\n",
        "val_data = data[-81*24:-21*24]\n",
        "train_data = data[:-81*24]\n",
        "\n",
        "target_fields = ['cnt', 'casual', 'registered']\n",
        "test_features, test_targets = test_data.drop(target_fields, axis=1), test_data[target_fields]\n",
        "val_features, val_targets = val_data.drop(target_fields, axis=1), val_data[target_fields]\n",
        "train_features, train_targets = train_data.drop(target_fields, axis=1), train_data[target_fields]\n",
        "\n",
        "train_targets.head()"
      ],
      "execution_count": 0,
      "outputs": []
    },
    {
      "metadata": {
        "id": "zbwpz0ek8uw2",
        "colab_type": "text"
      },
      "cell_type": "markdown",
      "source": [
        "### Pandas Dataframe to Numpy array\n",
        "\n",
        "Scikit-learn 만 사용한다면 사실 필요없을 수 있는 과정이다. 하지만, 차후 Tensorflow로 넘어간다면 Numpy를 사용해야만 한다. (Pandas데이터 타입을 받질 못한다.)<br>\n",
        "사실 링크된 Scikit-learn의 문서들을 보면 눈치챘을 수도 있는데, 거의 Numpy하고만 같이 사용되고 있다!<br>\n",
        "[values](https://pandas.pydata.org/pandas-docs/stable/generated/pandas.DataFrame.values.html)라는 방법을 사용할 것이다."
      ]
    },
    {
      "metadata": {
        "id": "CurBFRz88uw2",
        "colab_type": "code",
        "colab": {}
      },
      "cell_type": "code",
      "source": [
        "test_features, test_targets = test_features.values, test_targets.values\n",
        "val_features, val_targets = val_features.values, val_targets.values\n",
        "train_features, train_targets = train_features.values, train_targets.values\n",
        "\n",
        "# 우리는 타겟 중 첫번째 컬럼(cnt)만 사용할 것이다.\n",
        "test_cnt = test_targets[:,0]\n",
        "val_cnt = val_targets[:,0]\n",
        "train_cnt = train_targets[:,0]\n",
        "\n",
        "\n",
        "print(train_targets, train_cnt)"
      ],
      "execution_count": 0,
      "outputs": []
    },
    {
      "metadata": {
        "id": "BYr1vtpd8uw4",
        "colab_type": "text"
      },
      "cell_type": "markdown",
      "source": [
        "### Model Training : Simple Linear Regression\n",
        "\n",
        "이제 데이터가 다 준비가 되었다!\n",
        "\n",
        "해보자! 모델링!"
      ]
    },
    {
      "metadata": {
        "id": "oRB84_HE8uw5",
        "colab_type": "code",
        "colab": {}
      },
      "cell_type": "code",
      "source": [
        "'''\n",
        "단순한 multivariate regression을 해보자!\n",
        "'''\n",
        "import time # 학습시간 측정용\n",
        "from sklearn import linear_model\n",
        "from sklearn.metrics import mean_squared_error, r2_score"
      ],
      "execution_count": 0,
      "outputs": []
    },
    {
      "metadata": {
        "id": "UCEKvUAu8uw7",
        "colab_type": "code",
        "colab": {}
      },
      "cell_type": "code",
      "source": [
        "# 모델 준비\n",
        "simple_regression = linear_model.LinearRegression()\n",
        "\n",
        "# 모델 training\n",
        "# Test셋의 첫번째 컬럼(cnt)만 사용할 것이다. \n",
        "start_time = time.clock()\n",
        "simple_regression.fit(train_features, train_cnt )\n",
        "end_time = time.clock()\n",
        "\n",
        "print('----  {0:.5f}sec, training complete  ----'.format(end_time-start_time))\n",
        "\n",
        "# Training & Validation set에서의 예측값 준비\n",
        "train_pred, val_pred = simple_regression.predict(train_features), simple_regression.predict(val_features)"
      ],
      "execution_count": 0,
      "outputs": []
    },
    {
      "metadata": {
        "id": "0ZRwQJXY8uw9",
        "colab_type": "code",
        "colab": {}
      },
      "cell_type": "code",
      "source": [
        "# Training & Validation set에서의 성능 확인\n",
        "\n",
        "print(\"Mean Squared Error on Training set : {0:.5f}\".format(mean_squared_error(train_cnt, train_pred)  ))\n",
        "print(\"Mean Squared Error on Validation set : {0:.5f}\".format(mean_squared_error(val_cnt, val_pred)  ))\n",
        "\n",
        "print(\"R-squared Score on Training set : {0:.5f}\".format(r2_score(train_cnt, train_pred)))\n",
        "print(\"R-squared Score on Validation set : {0:.5f}\".format(r2_score(val_cnt, val_pred)))"
      ],
      "execution_count": 0,
      "outputs": []
    },
    {
      "metadata": {
        "id": "9Psj4F_d8uxA",
        "colab_type": "text"
      },
      "cell_type": "markdown",
      "source": [
        "### Check out on Test set\n",
        "\n",
        "Golden rule : Test set을 모델 학습에 사용하지 말지어다."
      ]
    },
    {
      "metadata": {
        "id": "52ZSdvS08uxC",
        "colab_type": "code",
        "colab": {}
      },
      "cell_type": "code",
      "source": [
        "simple_predictions = simple_regression.predict(test_features)\n",
        "\n",
        "fig, ax = plt.subplots(figsize=(10,5))\n",
        "\n",
        "# 예측값도 Scaling 되어 있으므로 그것을 원래대로 되돌려주는 과정\n",
        "mean, std = scaled_features['cnt']\n",
        "\n",
        "ax.plot((simple_predictions)*std+mean, label = 'Simple_Prediction')\n",
        "ax.plot((test_cnt)*std+mean, label = 'Real')\n",
        "ax.set_xlim(right = len(simple_predictions))\n",
        "ax.legend()\n",
        "\n",
        "dates = pd.to_datetime(rides.iloc[test_data.index]['dteday'])\n",
        "dates = dates.apply(lambda d: d.strftime('%b %d'))\n",
        "ax.set_xticks(np.arange(len(dates))[12::24])\n",
        "_ = ax.set_xticklabels(dates[12::24], rotation=45)\n",
        "\n",
        "print(\"Mean Squared Error on Test set : {0:.5f}\".format(mean_squared_error(test_cnt, simple_predictions)  ))\n",
        "print(\"R-squared Score on Test set : {0:.5f}\".format(r2_score(test_cnt, simple_predictions)))"
      ],
      "execution_count": 0,
      "outputs": []
    },
    {
      "metadata": {
        "id": "UdTSTPwJC--o",
        "colab_type": "text"
      },
      "cell_type": "markdown",
      "source": [
        "### Model Training : KNN Regression\n",
        "\n",
        "[K-Nearest Neighbors Regression](http://scikit-learn.org/stable/modules/generated/sklearn.neighbors.KNeighborsRegressor.html#sklearn.neighbors.KNeighborsRegressor)\n"
      ]
    },
    {
      "metadata": {
        "id": "JqHYp576Djh5",
        "colab_type": "code",
        "colab": {}
      },
      "cell_type": "code",
      "source": [
        "'''\n",
        "Nearest-Neighbor Regression\n",
        "'''\n",
        "\n",
        "import time # 학습시간 측정용\n",
        "from sklearn import neighbors"
      ],
      "execution_count": 0,
      "outputs": []
    },
    {
      "metadata": {
        "id": "2-ZRmsJtHHgj",
        "colab_type": "code",
        "colab": {}
      },
      "cell_type": "code",
      "source": [
        "# 모델 준비\n",
        "knn_regression = neighbors.KNeighborsRegressor(n_neighbors=5)\n",
        "\n",
        "# 모델 training\n",
        "# Test셋의 첫번째 컬럼(cnt)만 사용할 것이다. \n",
        "start_time = time.clock()\n",
        "knn_regression.fit(train_features, train_cnt)\n",
        "end_time = time.clock()\n",
        "\n",
        "print('----  {0:.5f}sec, training complete  ----'.format(end_time-start_time))\n",
        "\n",
        "# Training & Validation set에서의 예측값 준비\n",
        "train_pred2, val_pred2 = knn_regression.predict(train_features), knn_regression.predict(val_features)"
      ],
      "execution_count": 0,
      "outputs": []
    },
    {
      "metadata": {
        "id": "4Yh5-uWfJmM8",
        "colab_type": "code",
        "colab": {}
      },
      "cell_type": "code",
      "source": [
        "# Training & Validation set에서의 성능 확인\n",
        "\n",
        "print(\"Mean Squared Error on Training set : {0:.5f}\".format(mean_squared_error(train_cnt, train_pred2)  ))\n",
        "print(\"Mean Squared Error on Validation set : {0:.5f}\".format(mean_squared_error(val_cnt, val_pred2)  ))\n",
        "\n",
        "print(\"R-squared Score on Training set : {0:.5f}\".format(r2_score(train_cnt, train_pred2)))\n",
        "print(\"R-squared Score on Validation set : {0:.5f}\".format(r2_score(val_cnt, val_pred2)))"
      ],
      "execution_count": 0,
      "outputs": []
    },
    {
      "metadata": {
        "id": "892ftJCTJsow",
        "colab_type": "code",
        "colab": {}
      },
      "cell_type": "code",
      "source": [
        "fig, ax = plt.subplots(figsize=(10,5))\n",
        "\n",
        "knn_predictions = knn_regression.predict(test_features)\n",
        "\n",
        "# 예측값도 Scaling 되어 있으므로 그것을 원래대로 되돌려주는 과정\n",
        "mean, std = scaled_features['cnt']\n",
        "\n",
        "ax.plot(knn_predictions*std +mean, label = 'KNN_Prediction')\n",
        "ax.plot((test_cnt)*std+mean, label = 'Real')\n",
        "ax.set_xlim(right = len(simple_predictions))\n",
        "ax.legend()\n",
        "\n",
        "dates = pd.to_datetime(rides.iloc[test_data.index]['dteday'])\n",
        "dates = dates.apply(lambda d: d.strftime('%b %d'))\n",
        "ax.set_xticks(np.arange(len(dates))[12::24])\n",
        "_ = ax.set_xticklabels(dates[12::24], rotation=45)\n",
        "\n",
        "print(\"Mean Squared Error on Test set : {0:.5f}\".format(mean_squared_error(test_cnt, knn_predictions)  ))\n",
        "print(\"R-squared Score on Test set : {0:.5f}\".format(r2_score(test_cnt, knn_predictions)))"
      ],
      "execution_count": 0,
      "outputs": []
    },
    {
      "metadata": {
        "id": "JV3NOBIp8uxE",
        "colab_type": "text"
      },
      "cell_type": "markdown",
      "source": [
        "## 스스로 실습 01\n",
        "\n",
        "이걸로 끝이 아니다.\n",
        "\n",
        "위와 같은 과정을 싸이킷런의\n",
        "\n",
        "[Support Vector Machine Regression](http://scikit-learn.org/stable/modules/generated/sklearn.svm.SVR.html#sklearn.svm.SVR),  [Decision Tree Regression](http://scikit-learn.org/stable/modules/generated/sklearn.tree.DecisionTreeRegressor.html#sklearn.tree.DecisionTreeRegressor), \n",
        "\n",
        "에도 적용하고 눈으로 확인해보자! 위 링크의 하단에는 각각 Examples가 있으니 적극활용해보자"
      ]
    },
    {
      "metadata": {
        "id": "m1y-iahN8uxE",
        "colab_type": "code",
        "colab": {}
      },
      "cell_type": "code",
      "source": [
        ""
      ],
      "execution_count": 0,
      "outputs": []
    },
    {
      "metadata": {
        "id": "steX3gdU8uxG",
        "colab_type": "code",
        "colab": {}
      },
      "cell_type": "code",
      "source": [
        ""
      ],
      "execution_count": 0,
      "outputs": []
    },
    {
      "metadata": {
        "id": "FdRoI9w58uxI",
        "colab_type": "text"
      },
      "cell_type": "markdown",
      "source": [
        "위 방식들의 Regression이 끝이 나면 우리는 단순한 뉴럴네트워크를 이용한 Regression으로 넘어간다. [MLPRegressor](http://scikit-learn.org/stable/modules/generated/sklearn.neural_network.MLPRegressor.html#sklearn.neural_network.MLPRegressor)와 [Neural Network models (supervised)](http://scikit-learn.org/stable/modules/neural_networks_supervised.html)를 적극 참고하자"
      ]
    },
    {
      "metadata": {
        "id": "fq33DEZn8uxJ",
        "colab_type": "code",
        "colab": {}
      },
      "cell_type": "code",
      "source": [
        "'''\n",
        "사용한 컬럼의 갯수가 56개이다!\n",
        "'''\n",
        "\n",
        "train_features.shape"
      ],
      "execution_count": 0,
      "outputs": []
    },
    {
      "metadata": {
        "id": "bFIHcjO-8uxL",
        "colab_type": "code",
        "colab": {}
      },
      "cell_type": "code",
      "source": [
        "from sklearn.neural_network import MLPRegressor"
      ],
      "execution_count": 0,
      "outputs": []
    },
    {
      "metadata": {
        "id": "naFuFprx8uxO",
        "colab_type": "code",
        "colab": {}
      },
      "cell_type": "code",
      "source": [
        "# 모델 준비\n",
        "'''\n",
        "히든 레이어의 사이즈를 가지고 놀아보자. 학습하는데 시간을 측정해도 좋다.\n",
        "'''\n",
        "neural_regression = MLPRegressor(hidden_layer_sizes=(16),\n",
        "                                activation = 'relu',\n",
        "                                solver = 'adam',\n",
        "                                learning_rate_init = 0.0001, #0.00001\n",
        "                                max_iter = 500,\n",
        "                                 random_state=2018\n",
        "                                )\n",
        "\n",
        "# 모델 training\n",
        "# Test셋의 첫번째 컬럼(cnt)만 사용할 것이다. \n",
        "start_time = time.clock()\n",
        "neural_regression.fit(train_features, train_cnt )\n",
        "end_time = time.clock()\n",
        "\n",
        "print('----  {0:.5f}sec, training complete  ----'.format(end_time-start_time))\n",
        "\n",
        "\n",
        "# Training & Validation set에서의 예측값 준비\n",
        "train_pred2, val_pred2 = neural_regression.predict(train_features), neural_regression.predict(val_features)\n",
        "\n"
      ],
      "execution_count": 0,
      "outputs": []
    },
    {
      "metadata": {
        "id": "MtPwP5p68uxQ",
        "colab_type": "code",
        "colab": {}
      },
      "cell_type": "code",
      "source": [
        "# Training & Validation set에서의 성능 확인\n",
        "\n",
        "print(\"Mean Squared Error on Training set : {0:.5f}\".format(mean_squared_error(train_cnt, train_pred2)  ))\n",
        "print(\"Mean Squared Error on Validation set : {0:.5f}\".format(mean_squared_error(val_cnt, val_pred2)  ))\n",
        "\n",
        "print(\"R-squared Score on Training set : {0:.5f}\".format(r2_score(train_cnt, train_pred2)))\n",
        "print(\"R-squared Score on Validation set : {0:.5f}\".format(r2_score(val_cnt, val_pred2)))"
      ],
      "execution_count": 0,
      "outputs": []
    },
    {
      "metadata": {
        "id": "-e6p790W8uxU",
        "colab_type": "code",
        "colab": {}
      },
      "cell_type": "code",
      "source": [
        "fig, ax = plt.subplots(figsize=(10,5))\n",
        "\n",
        "# 예측값도 Scaling 되어 있으므로 그것을 원래대로 되돌려주는 과정\n",
        "mean, std = scaled_features['cnt']\n",
        "neural_predictions = neural_regression.predict(test_features)\n",
        "\n",
        "ax.plot(neural_predictions*std+mean, label = 'Neural_Prediction')\n",
        "ax.plot((test_cnt)*std+mean, label = 'Real')\n",
        "ax.set_xlim(right = len(neural_predictions))\n",
        "ax.legend()\n",
        "\n",
        "dates = pd.to_datetime(rides.iloc[test_data.index]['dteday'])\n",
        "dates = dates.apply(lambda d: d.strftime('%b %d'))\n",
        "ax.set_xticks(np.arange(len(dates))[12::24])\n",
        "_ = ax.set_xticklabels(dates[12::24], rotation=45)\n",
        "\n",
        "print(\"Mean Squared Error on Test set : {0:.5f}\".format(mean_squared_error(test_cnt, neural_predictions)  ))\n",
        "print(\"R-squared Score on Test set : {0:.5f}\".format(r2_score(test_cnt, neural_predictions)))"
      ],
      "execution_count": 0,
      "outputs": []
    },
    {
      "metadata": {
        "id": "Dzk5EZ2H8uxZ",
        "colab_type": "text"
      },
      "cell_type": "markdown",
      "source": [
        "## 스스로 실습 02\n",
        "\n",
        "캐글의 입문 컴페티션중 하나인 [Boston House prices](https://www.kaggle.com/c/boston-housing)\n",
        "데이터 셋을 가지고 집값을 예측해보자!\n",
        "\n",
        "\n",
        "\n",
        "\n",
        "뉴럴넷을 이용한 회귀모델과, 다른 방식을 이용한 회귀모델을 만들어보자"
      ]
    },
    {
      "metadata": {
        "id": "Hl6l7LGO8uxZ",
        "colab_type": "code",
        "colab": {}
      },
      "cell_type": "code",
      "source": [
        "from sklearn.datasets import load_boston\n",
        "boston = load_boston()\n",
        "print(boston.data.shape,  boston.target.shape)\n",
        "'''\n",
        "feature 데이터는 boston.data에\n",
        "target 데이터는 boston.target에 불러와진다.\n",
        "\n",
        "scikit-learn에서는 datasets 안에 미리 연습용 데이터셋을 가지고 있다!\n",
        "'''"
      ],
      "execution_count": 0,
      "outputs": []
    },
    {
      "metadata": {
        "id": "o3ejkHGAVHsi",
        "colab_type": "code",
        "colab": {}
      },
      "cell_type": "code",
      "source": [
        "boston.target"
      ],
      "execution_count": 0,
      "outputs": []
    }
  ]
}